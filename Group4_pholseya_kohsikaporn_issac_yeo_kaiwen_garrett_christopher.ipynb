{
 "cells": [
  {
   "cell_type": "markdown",
   "metadata": {},
   "source": [
    "# Final Mark: 8.5 / 10\n",
    "<ol>\n",
    "<li>Very well done project which has analysed news bias from different sources\n",
    "<li>The visualization has contributed a lot in drawing the conclusion\n",
    "<li>Used Vader to help with the sentiment levels of the tweets\n",
    "</ol>"
   ]
  },
  {
   "cell_type": "markdown",
   "metadata": {},
   "source": [
    "# DS102 Group 4 Project Assignment: News Bias Analysis"
   ]
  },
  {
   "cell_type": "markdown",
   "metadata": {},
   "source": [
    "## Group Members\n",
    " - Pholseya Kohsikaporn\n",
    " - Issac Yeo Kaiwen\n",
    " - Garrett Christopher Ng Junze\n",
    " - Ng Guo Rong Randy"
   ]
  },
  {
   "cell_type": "markdown",
   "metadata": {},
   "source": [
    "## Table of Contents:\n",
    "* I. [Problem Statement/Research Topic](#firstpoint)\n",
    "* II. [Dataset and Data Preparation](#secondpoint)\n",
    "    * II.i. [Web Scraping Tool](#secondpoint1)\n",
    "    * II.ii. [II.ii Sentiment Analysis Tool and Parameters](#secondpoint2)\n",
    "* III. [Methodology](#thirdpoint)\n",
    "    * III.i. [Data Cleaning/Wrangling](#thirdpoint1)\n",
    "        * III.i.a [Importing .csv files](#thirdsubpoint1)\n",
    "        * III.i.b. [Removing URLs from Tweet Content](#thirdsubpoint2)\n",
    "        * III.i.c. [Filtering Tweets according to Parameters](#thirdsubpoint3)\n",
    "    * III.ii. [Sentiment Analysis](#thirdpoint2)\n",
    "    * III.iii. [Data Visualization](#thirdpoint3)\n",
    "        * III.iii.a. [Tweets by Sentiment](#thirdsubpoint4)\n",
    "        * III.iii.b. [Proportion of Tweets by Sentiment](#thirdsubpoint5)\n",
    "* IV. [Insights and Analysis](#fourthpoint)\n",
    "        \n",
    "        \n"
   ]
  },
  {
   "cell_type": "markdown",
   "metadata": {},
   "source": [
    "## I. Problem Statement/Research Topic <a class=\"anchor\" id=\"firstpoint\"></a>"
   ]
  },
  {
   "cell_type": "markdown",
   "metadata": {},
   "source": [
    "In recent years, the American News media as a whole has become more and more polarized along political lines. This divide is perhaps best exemplified by the dichotomy between the 'conservative-leaning' Fox News, and the 'liberal-leaning' Cable News Network (CNN). Recent events, such as the Black Lives Matter protests and the 2020 U.S. Presidential Elections, have only thrown this polarization into stark relief. To outsiders looking in, this can give the impression of receiving two parallel but completely different versions of the same events. Thus, our team feels that a project that evaluates news outlets for signs of liberal/conservative bias would be helpful in helping non-Americans evaluate events in the country.\n",
    "\n",
    "While there have been comprehensive data science-oriented projects aimed at evaluating media bias, such as Ad Fontes Media's [Interactive Media Bias Chart](https://www.adfontesmedia.com/interactive-media-bias-chart-2/), our team would like to take a different approach. Recognizing the fact that one big aspect of engagement with news media is now through social media platforms, we propose to evaluate these outlets based on the content of their Twitter feeds. \n",
    "\n",
    "Our group decided to use text mining and web scraping methodologies, as well as employing available sentiment analysis tools, to analyse the tweets of the following media news outlets:\n",
    " - Fox News\n",
    " - Cable News Network (CNN)\n",
    " - MSNBC\n",
    " - The Washington Post\n",
    " \n",
    "These outlets were chosen due to the popular perception of them as having a bias on either side of the political spectrum - Fox News and The Washington Post on the conservative end, CNN and MSNBC on the liberal one. \n",
    "\n",
    "Taking into account our project scope and timeframe, our group decided on analysing tweets from these outlets from 4th October to 4th November 2020. These dates encompassed the US 2020 Presidential elections, providing us with a sample size which would be more politically charged."
   ]
  },
  {
   "cell_type": "markdown",
   "metadata": {},
   "source": [
    "## II. Dataset and Data Preparation <a class=\"anchor\" id=\"secondpoint\"></a>"
   ]
  },
  {
   "cell_type": "markdown",
   "metadata": {},
   "source": [
    "### II.i Web Scraping Tool <a class=\"anchor\" id=\"secondpoint1\"></a>"
   ]
  },
  {
   "cell_type": "markdown",
   "metadata": {},
   "source": [
    "The initial challenge our group faced was deciding which Twitter scraping tool to use, as many Python libraries offer such a service. [Tweepy](https://www.tweepy.org/) and [Twython](https://twython.readthedocs.io/en/latest/) both required access to the Twitter API, which meant precious time wasted applying for a Twitter developer account. Additionally, initial scraping attempts resulted in an extremely small sample size of tweets (about 200 tweets from the date of scraping) which was unsuitable for our project scope.\n",
    "\n",
    "Finally, our group settled on [Twint](https://github.com/twintproject/twint), a library/tool that allowed tweet-scraping without having to use the Twitter API. This provided us with 4 .csv files containing a mean sample size of about 1500 tweets per news outlet. These tweets were posted over the course of the abovementioned dates of 4th October - 4th November 2020."
   ]
  },
  {
   "cell_type": "markdown",
   "metadata": {},
   "source": [
    "### II.ii Sentiment Analysis Tool and Parameters <a class=\"anchor\" id=\"secondpoint2\"></a>"
   ]
  },
  {
   "cell_type": "markdown",
   "metadata": {},
   "source": [
    "Our group also decided to make use of the Valence Aware Dictionary and sEntiment Reasoner, or VADER library. Once relevant tweets have been filtered out, the VADER tool would be able to analyse said tweets based on its internal rules and lexicon in order to generate a rating of how positive or negative the content of each tweet is.\n",
    "\n",
    "We also decided to filter the results based on the American Republican and Democrat parties, as well as the presidential candidates, President Donald Trump and Democrat presidential nominee Mr. Joe Biden. In this way, we can get a sense of the media's portrayal of the Legislative and Executive branches of the U.S. government. Hence, the datasets are to be filtered and grouped by mention of one of four parameters in their content: 'Republican', 'Democrat', 'Trump' and 'Biden'."
   ]
  },
  {
   "cell_type": "markdown",
   "metadata": {},
   "source": [
    "## III. Methodology <a class=\"anchor\" id=\"thirdpoint\"></a>"
   ]
  },
  {
   "cell_type": "code",
   "execution_count": 1,
   "metadata": {},
   "outputs": [],
   "source": [
    "import pandas as pd\n",
    "import numpy as np"
   ]
  },
  {
   "cell_type": "markdown",
   "metadata": {},
   "source": [
    "### III.i Data Cleaning/Wrangling <a class=\"anchor\" id=\"thirdpoint1\"></a>"
   ]
  },
  {
   "cell_type": "markdown",
   "metadata": {},
   "source": [
    "#### III.i.a Importing .csv files <a class=\"anchor\" id=\"thirdsubpoint1\"></a>"
   ]
  },
  {
   "cell_type": "markdown",
   "metadata": {},
   "source": [
    "The first order of business is to read the .csv files"
   ]
  },
  {
   "cell_type": "code",
   "execution_count": 83,
   "metadata": {},
   "outputs": [
    {
     "data": {
      "text/html": [
       "<div>\n",
       "<style scoped>\n",
       "    .dataframe tbody tr th:only-of-type {\n",
       "        vertical-align: middle;\n",
       "    }\n",
       "\n",
       "    .dataframe tbody tr th {\n",
       "        vertical-align: top;\n",
       "    }\n",
       "\n",
       "    .dataframe thead th {\n",
       "        text-align: right;\n",
       "    }\n",
       "</style>\n",
       "<table border=\"1\" class=\"dataframe\">\n",
       "  <thead>\n",
       "    <tr style=\"text-align: right;\">\n",
       "      <th></th>\n",
       "      <th>id</th>\n",
       "      <th>date</th>\n",
       "      <th>tweet</th>\n",
       "    </tr>\n",
       "  </thead>\n",
       "  <tbody>\n",
       "    <tr>\n",
       "      <th>0</th>\n",
       "      <td>1323775968914395136</td>\n",
       "      <td>2020-11-04 07:56:00</td>\n",
       "      <td>Oregon voters on Tuesday are considering a bal...</td>\n",
       "    </tr>\n",
       "    <tr>\n",
       "      <th>1</th>\n",
       "      <td>1323774990391586819</td>\n",
       "      <td>2020-11-04 07:52:06</td>\n",
       "      <td>Live now on @MSNBC:  Stacey Abrams discusses v...</td>\n",
       "    </tr>\n",
       "    <tr>\n",
       "      <th>2</th>\n",
       "      <td>1323774710677598208</td>\n",
       "      <td>2020-11-04 07:51:00</td>\n",
       "      <td>“I cleared my day today,” one Los Angeles vote...</td>\n",
       "    </tr>\n",
       "    <tr>\n",
       "      <th>3</th>\n",
       "      <td>1323772969542389761</td>\n",
       "      <td>2020-11-04 07:44:05</td>\n",
       "      <td>Here's what to watch as the polls close Tuesda...</td>\n",
       "    </tr>\n",
       "    <tr>\n",
       "      <th>4</th>\n",
       "      <td>1323772889028530177</td>\n",
       "      <td>2020-11-04 07:43:45</td>\n",
       "      <td>Multiple agencies, including the FBI, are inve...</td>\n",
       "    </tr>\n",
       "    <tr>\n",
       "      <th>...</th>\n",
       "      <td>...</td>\n",
       "      <td>...</td>\n",
       "      <td>...</td>\n",
       "    </tr>\n",
       "    <tr>\n",
       "      <th>3415</th>\n",
       "      <td>1312185981450117120</td>\n",
       "      <td>2020-10-03 08:21:31</td>\n",
       "      <td>JUST IN: Sen. Tillis says he has tested positi...</td>\n",
       "    </tr>\n",
       "    <tr>\n",
       "      <th>3416</th>\n",
       "      <td>1312185975041261569</td>\n",
       "      <td>2020-10-03 08:21:30</td>\n",
       "      <td>\"We face many threats across the world,\" Rep. ...</td>\n",
       "    </tr>\n",
       "    <tr>\n",
       "      <th>3417</th>\n",
       "      <td>1312185864068370432</td>\n",
       "      <td>2020-10-03 08:21:03</td>\n",
       "      <td>“We know that Russia is a master at disinforma...</td>\n",
       "    </tr>\n",
       "    <tr>\n",
       "      <th>3418</th>\n",
       "      <td>1312181637342355457</td>\n",
       "      <td>2020-10-03 08:04:16</td>\n",
       "      <td>Senate Judiciary Cmte. chairman Lindsey Graham...</td>\n",
       "    </tr>\n",
       "    <tr>\n",
       "      <th>3419</th>\n",
       "      <td>1312180836310020096</td>\n",
       "      <td>2020-10-03 08:01:05</td>\n",
       "      <td>At least 11 positive coronavirus tests can be ...</td>\n",
       "    </tr>\n",
       "  </tbody>\n",
       "</table>\n",
       "<p>3420 rows × 3 columns</p>\n",
       "</div>"
      ],
      "text/plain": [
       "                       id                 date  \\\n",
       "0     1323775968914395136  2020-11-04 07:56:00   \n",
       "1     1323774990391586819  2020-11-04 07:52:06   \n",
       "2     1323774710677598208  2020-11-04 07:51:00   \n",
       "3     1323772969542389761  2020-11-04 07:44:05   \n",
       "4     1323772889028530177  2020-11-04 07:43:45   \n",
       "...                   ...                  ...   \n",
       "3415  1312185981450117120  2020-10-03 08:21:31   \n",
       "3416  1312185975041261569  2020-10-03 08:21:30   \n",
       "3417  1312185864068370432  2020-10-03 08:21:03   \n",
       "3418  1312181637342355457  2020-10-03 08:04:16   \n",
       "3419  1312180836310020096  2020-10-03 08:01:05   \n",
       "\n",
       "                                                  tweet  \n",
       "0     Oregon voters on Tuesday are considering a bal...  \n",
       "1     Live now on @MSNBC:  Stacey Abrams discusses v...  \n",
       "2     “I cleared my day today,” one Los Angeles vote...  \n",
       "3     Here's what to watch as the polls close Tuesda...  \n",
       "4     Multiple agencies, including the FBI, are inve...  \n",
       "...                                                 ...  \n",
       "3415  JUST IN: Sen. Tillis says he has tested positi...  \n",
       "3416  \"We face many threats across the world,\" Rep. ...  \n",
       "3417  “We know that Russia is a master at disinforma...  \n",
       "3418  Senate Judiciary Cmte. chairman Lindsey Graham...  \n",
       "3419  At least 11 positive coronavirus tests can be ...  \n",
       "\n",
       "[3420 rows x 3 columns]"
      ]
     },
     "execution_count": 83,
     "metadata": {},
     "output_type": "execute_result"
    }
   ],
   "source": [
    "#Import MSNBC dataset\n",
    "msnbc_df = pd.read_csv('MSNBC_news.csv')\n",
    "msnbc_df = msnbc_df[['id', 'date', 'tweet']]\n",
    "msnbc_df"
   ]
  },
  {
   "cell_type": "code",
   "execution_count": 84,
   "metadata": {},
   "outputs": [
    {
     "data": {
      "text/html": [
       "<div>\n",
       "<style scoped>\n",
       "    .dataframe tbody tr th:only-of-type {\n",
       "        vertical-align: middle;\n",
       "    }\n",
       "\n",
       "    .dataframe tbody tr th {\n",
       "        vertical-align: top;\n",
       "    }\n",
       "\n",
       "    .dataframe thead th {\n",
       "        text-align: right;\n",
       "    }\n",
       "</style>\n",
       "<table border=\"1\" class=\"dataframe\">\n",
       "  <thead>\n",
       "    <tr style=\"text-align: right;\">\n",
       "      <th></th>\n",
       "      <th>id</th>\n",
       "      <th>date</th>\n",
       "      <th>tweet</th>\n",
       "    </tr>\n",
       "  </thead>\n",
       "  <tbody>\n",
       "    <tr>\n",
       "      <th>0</th>\n",
       "      <td>1323773226938454022</td>\n",
       "      <td>2020-11-04 07:45:06</td>\n",
       "      <td>There's a lot to keep track of tonight. See wh...</td>\n",
       "    </tr>\n",
       "    <tr>\n",
       "      <th>1</th>\n",
       "      <td>1323769480372195332</td>\n",
       "      <td>2020-11-04 07:30:13</td>\n",
       "      <td>Democrats aim to flip the Senate after six yea...</td>\n",
       "    </tr>\n",
       "    <tr>\n",
       "      <th>2</th>\n",
       "      <td>1323766172806975489</td>\n",
       "      <td>2020-11-04 07:17:04</td>\n",
       "      <td>President Trump will watch election results in...</td>\n",
       "    </tr>\n",
       "    <tr>\n",
       "      <th>3</th>\n",
       "      <td>1323763168364105730</td>\n",
       "      <td>2020-11-04 07:05:08</td>\n",
       "      <td>A 99-year-old man who was born to a sharecropp...</td>\n",
       "    </tr>\n",
       "    <tr>\n",
       "      <th>4</th>\n",
       "      <td>1323760638896865282</td>\n",
       "      <td>2020-11-04 06:55:05</td>\n",
       "      <td>The Phoenix area could see the highest turnout...</td>\n",
       "    </tr>\n",
       "    <tr>\n",
       "      <th>...</th>\n",
       "      <td>...</td>\n",
       "      <td>...</td>\n",
       "      <td>...</td>\n",
       "    </tr>\n",
       "    <tr>\n",
       "      <th>1871</th>\n",
       "      <td>1312197192275247106</td>\n",
       "      <td>2020-10-03 09:06:04</td>\n",
       "      <td>There will be more space between Vice Presiden...</td>\n",
       "    </tr>\n",
       "    <tr>\n",
       "      <th>1872</th>\n",
       "      <td>1312193425479852033</td>\n",
       "      <td>2020-10-03 08:51:06</td>\n",
       "      <td>The Trump campaign won't pull down its negativ...</td>\n",
       "    </tr>\n",
       "    <tr>\n",
       "      <th>1873</th>\n",
       "      <td>1312189643723476993</td>\n",
       "      <td>2020-10-03 08:36:05</td>\n",
       "      <td>NEW: Republican Sen. Thom Tillis of North Caro...</td>\n",
       "    </tr>\n",
       "    <tr>\n",
       "      <th>1874</th>\n",
       "      <td>1312185636040785920</td>\n",
       "      <td>2020-10-03 08:20:09</td>\n",
       "      <td>President Trump's coronavirus diagnosis raises...</td>\n",
       "    </tr>\n",
       "    <tr>\n",
       "      <th>1875</th>\n",
       "      <td>1312181588973633537</td>\n",
       "      <td>2020-10-03 08:04:04</td>\n",
       "      <td>President Trump and the first lady's Covid-19 ...</td>\n",
       "    </tr>\n",
       "  </tbody>\n",
       "</table>\n",
       "<p>1876 rows × 3 columns</p>\n",
       "</div>"
      ],
      "text/plain": [
       "                       id                 date  \\\n",
       "0     1323773226938454022  2020-11-04 07:45:06   \n",
       "1     1323769480372195332  2020-11-04 07:30:13   \n",
       "2     1323766172806975489  2020-11-04 07:17:04   \n",
       "3     1323763168364105730  2020-11-04 07:05:08   \n",
       "4     1323760638896865282  2020-11-04 06:55:05   \n",
       "...                   ...                  ...   \n",
       "1871  1312197192275247106  2020-10-03 09:06:04   \n",
       "1872  1312193425479852033  2020-10-03 08:51:06   \n",
       "1873  1312189643723476993  2020-10-03 08:36:05   \n",
       "1874  1312185636040785920  2020-10-03 08:20:09   \n",
       "1875  1312181588973633537  2020-10-03 08:04:04   \n",
       "\n",
       "                                                  tweet  \n",
       "0     There's a lot to keep track of tonight. See wh...  \n",
       "1     Democrats aim to flip the Senate after six yea...  \n",
       "2     President Trump will watch election results in...  \n",
       "3     A 99-year-old man who was born to a sharecropp...  \n",
       "4     The Phoenix area could see the highest turnout...  \n",
       "...                                                 ...  \n",
       "1871  There will be more space between Vice Presiden...  \n",
       "1872  The Trump campaign won't pull down its negativ...  \n",
       "1873  NEW: Republican Sen. Thom Tillis of North Caro...  \n",
       "1874  President Trump's coronavirus diagnosis raises...  \n",
       "1875  President Trump and the first lady's Covid-19 ...  \n",
       "\n",
       "[1876 rows x 3 columns]"
      ]
     },
     "execution_count": 84,
     "metadata": {},
     "output_type": "execute_result"
    }
   ],
   "source": [
    "# Import CNN dataset\n",
    "cnn_df = pd.read_csv('CNN_news.csv')\n",
    "cnn_df = cnn_df[['id', 'date', 'tweet']]\n",
    "cnn_df"
   ]
  },
  {
   "cell_type": "code",
   "execution_count": 85,
   "metadata": {},
   "outputs": [
    {
     "data": {
      "text/html": [
       "<div>\n",
       "<style scoped>\n",
       "    .dataframe tbody tr th:only-of-type {\n",
       "        vertical-align: middle;\n",
       "    }\n",
       "\n",
       "    .dataframe tbody tr th {\n",
       "        vertical-align: top;\n",
       "    }\n",
       "\n",
       "    .dataframe thead th {\n",
       "        text-align: right;\n",
       "    }\n",
       "</style>\n",
       "<table border=\"1\" class=\"dataframe\">\n",
       "  <thead>\n",
       "    <tr style=\"text-align: right;\">\n",
       "      <th></th>\n",
       "      <th>id</th>\n",
       "      <th>date</th>\n",
       "      <th>tweet</th>\n",
       "    </tr>\n",
       "  </thead>\n",
       "  <tbody>\n",
       "    <tr>\n",
       "      <th>0</th>\n",
       "      <td>1323776363636101128</td>\n",
       "      <td>2020-11-04 07:57:34</td>\n",
       "      <td>Newsom says California could move to all mail-...</td>\n",
       "    </tr>\n",
       "    <tr>\n",
       "      <th>1</th>\n",
       "      <td>1323772925313458179</td>\n",
       "      <td>2020-11-04 07:43:54</td>\n",
       "      <td>Karl Rove: A lot of Senate races are ‘close as...</td>\n",
       "    </tr>\n",
       "    <tr>\n",
       "      <th>2</th>\n",
       "      <td>1323772511868379137</td>\n",
       "      <td>2020-11-04 07:42:15</td>\n",
       "      <td>Where are Trump and Biden watching election re...</td>\n",
       "    </tr>\n",
       "    <tr>\n",
       "      <th>3</th>\n",
       "      <td>1323772313037361152</td>\n",
       "      <td>2020-11-04 07:41:28</td>\n",
       "      <td>Fox News kicks off Democracy 2020 Election Nig...</td>\n",
       "    </tr>\n",
       "    <tr>\n",
       "      <th>4</th>\n",
       "      <td>1323768195690516482</td>\n",
       "      <td>2020-11-04 07:25:06</td>\n",
       "      <td>Massachusetts' Republican Gov. reveals he left...</td>\n",
       "    </tr>\n",
       "    <tr>\n",
       "      <th>...</th>\n",
       "      <td>...</td>\n",
       "      <td>...</td>\n",
       "      <td>...</td>\n",
       "    </tr>\n",
       "    <tr>\n",
       "      <th>697</th>\n",
       "      <td>1312383161091985408</td>\n",
       "      <td>2020-10-03 21:25:03</td>\n",
       "      <td>https://t.co/KZdKccaD8V</td>\n",
       "    </tr>\n",
       "    <tr>\n",
       "      <th>698</th>\n",
       "      <td>1312376779890397191</td>\n",
       "      <td>2020-10-03 20:59:41</td>\n",
       "      <td>https://t.co/iL4FMmxxqO</td>\n",
       "    </tr>\n",
       "    <tr>\n",
       "      <th>699</th>\n",
       "      <td>1312349233052372992</td>\n",
       "      <td>2020-10-03 19:10:14</td>\n",
       "      <td>https://t.co/lHmqDuzCOq</td>\n",
       "    </tr>\n",
       "    <tr>\n",
       "      <th>700</th>\n",
       "      <td>1312197825657139205</td>\n",
       "      <td>2020-10-03 09:08:35</td>\n",
       "      <td>https://t.co/GFcmBVbIZU</td>\n",
       "    </tr>\n",
       "    <tr>\n",
       "      <th>701</th>\n",
       "      <td>1312188590999314433</td>\n",
       "      <td>2020-10-03 08:31:54</td>\n",
       "      <td>https://t.co/zHhbndcPxN</td>\n",
       "    </tr>\n",
       "  </tbody>\n",
       "</table>\n",
       "<p>702 rows × 3 columns</p>\n",
       "</div>"
      ],
      "text/plain": [
       "                      id                 date  \\\n",
       "0    1323776363636101128  2020-11-04 07:57:34   \n",
       "1    1323772925313458179  2020-11-04 07:43:54   \n",
       "2    1323772511868379137  2020-11-04 07:42:15   \n",
       "3    1323772313037361152  2020-11-04 07:41:28   \n",
       "4    1323768195690516482  2020-11-04 07:25:06   \n",
       "..                   ...                  ...   \n",
       "697  1312383161091985408  2020-10-03 21:25:03   \n",
       "698  1312376779890397191  2020-10-03 20:59:41   \n",
       "699  1312349233052372992  2020-10-03 19:10:14   \n",
       "700  1312197825657139205  2020-10-03 09:08:35   \n",
       "701  1312188590999314433  2020-10-03 08:31:54   \n",
       "\n",
       "                                                 tweet  \n",
       "0    Newsom says California could move to all mail-...  \n",
       "1    Karl Rove: A lot of Senate races are ‘close as...  \n",
       "2    Where are Trump and Biden watching election re...  \n",
       "3    Fox News kicks off Democracy 2020 Election Nig...  \n",
       "4    Massachusetts' Republican Gov. reveals he left...  \n",
       "..                                                 ...  \n",
       "697                            https://t.co/KZdKccaD8V  \n",
       "698                            https://t.co/iL4FMmxxqO  \n",
       "699                            https://t.co/lHmqDuzCOq  \n",
       "700                            https://t.co/GFcmBVbIZU  \n",
       "701                            https://t.co/zHhbndcPxN  \n",
       "\n",
       "[702 rows x 3 columns]"
      ]
     },
     "execution_count": 85,
     "metadata": {},
     "output_type": "execute_result"
    }
   ],
   "source": [
    "# Import Fox News dataset\n",
    "fox_df = pd.read_csv('FOX_news.csv')\n",
    "fox_df = fox_df[['id', 'date', 'tweet']]\n",
    "fox_df"
   ]
  },
  {
   "cell_type": "code",
   "execution_count": 86,
   "metadata": {},
   "outputs": [
    {
     "data": {
      "text/html": [
       "<div>\n",
       "<style scoped>\n",
       "    .dataframe tbody tr th:only-of-type {\n",
       "        vertical-align: middle;\n",
       "    }\n",
       "\n",
       "    .dataframe tbody tr th {\n",
       "        vertical-align: top;\n",
       "    }\n",
       "\n",
       "    .dataframe thead th {\n",
       "        text-align: right;\n",
       "    }\n",
       "</style>\n",
       "<table border=\"1\" class=\"dataframe\">\n",
       "  <thead>\n",
       "    <tr style=\"text-align: right;\">\n",
       "      <th></th>\n",
       "      <th>id</th>\n",
       "      <th>date</th>\n",
       "      <th>tweet</th>\n",
       "    </tr>\n",
       "  </thead>\n",
       "  <tbody>\n",
       "    <tr>\n",
       "      <th>0</th>\n",
       "      <td>1323761483801632769</td>\n",
       "      <td>2020-11-04 06:58:26</td>\n",
       "      <td>Biden takes nostalgic journey amid a search fo...</td>\n",
       "    </tr>\n",
       "    <tr>\n",
       "      <th>1</th>\n",
       "      <td>1323749034482376706</td>\n",
       "      <td>2020-11-04 06:08:58</td>\n",
       "      <td>Trump’s first term has been defined by stabili...</td>\n",
       "    </tr>\n",
       "    <tr>\n",
       "      <th>2</th>\n",
       "      <td>1323741715031797760</td>\n",
       "      <td>2020-11-04 05:39:53</td>\n",
       "      <td>Supreme Court debates what judges must find be...</td>\n",
       "    </tr>\n",
       "    <tr>\n",
       "      <th>3</th>\n",
       "      <td>1323736108581163010</td>\n",
       "      <td>2020-11-04 05:17:36</td>\n",
       "      <td>She came to the U.S. from Mexico 44 years ago....</td>\n",
       "    </tr>\n",
       "    <tr>\n",
       "      <th>4</th>\n",
       "      <td>1323728711192031233</td>\n",
       "      <td>2020-11-04 04:48:13</td>\n",
       "      <td>With all eyes on Pennsylvania, long lines at p...</td>\n",
       "    </tr>\n",
       "    <tr>\n",
       "      <th>...</th>\n",
       "      <td>...</td>\n",
       "      <td>...</td>\n",
       "      <td>...</td>\n",
       "    </tr>\n",
       "    <tr>\n",
       "      <th>571</th>\n",
       "      <td>1312349129780219904</td>\n",
       "      <td>2020-10-03 19:09:49</td>\n",
       "      <td>Trump said solving the opioid crisis was a top...</td>\n",
       "    </tr>\n",
       "    <tr>\n",
       "      <th>572</th>\n",
       "      <td>1312237570353516545</td>\n",
       "      <td>2020-10-03 11:46:31</td>\n",
       "      <td>Notre Dame faculty who attended White House ev...</td>\n",
       "    </tr>\n",
       "    <tr>\n",
       "      <th>573</th>\n",
       "      <td>1312217783875391488</td>\n",
       "      <td>2020-10-03 10:27:54</td>\n",
       "      <td>What the White House and Trump allies said abo...</td>\n",
       "    </tr>\n",
       "    <tr>\n",
       "      <th>574</th>\n",
       "      <td>1312192477030313986</td>\n",
       "      <td>2020-10-03 08:47:20</td>\n",
       "      <td>Invincibility punctured by infection: How the ...</td>\n",
       "    </tr>\n",
       "    <tr>\n",
       "      <th>575</th>\n",
       "      <td>1312187099940941824</td>\n",
       "      <td>2020-10-03 08:25:58</td>\n",
       "      <td>Sen. Thom Tillis of North Carolina becomes sec...</td>\n",
       "    </tr>\n",
       "  </tbody>\n",
       "</table>\n",
       "<p>576 rows × 3 columns</p>\n",
       "</div>"
      ],
      "text/plain": [
       "                      id                 date  \\\n",
       "0    1323761483801632769  2020-11-04 06:58:26   \n",
       "1    1323749034482376706  2020-11-04 06:08:58   \n",
       "2    1323741715031797760  2020-11-04 05:39:53   \n",
       "3    1323736108581163010  2020-11-04 05:17:36   \n",
       "4    1323728711192031233  2020-11-04 04:48:13   \n",
       "..                   ...                  ...   \n",
       "571  1312349129780219904  2020-10-03 19:09:49   \n",
       "572  1312237570353516545  2020-10-03 11:46:31   \n",
       "573  1312217783875391488  2020-10-03 10:27:54   \n",
       "574  1312192477030313986  2020-10-03 08:47:20   \n",
       "575  1312187099940941824  2020-10-03 08:25:58   \n",
       "\n",
       "                                                 tweet  \n",
       "0    Biden takes nostalgic journey amid a search fo...  \n",
       "1    Trump’s first term has been defined by stabili...  \n",
       "2    Supreme Court debates what judges must find be...  \n",
       "3    She came to the U.S. from Mexico 44 years ago....  \n",
       "4    With all eyes on Pennsylvania, long lines at p...  \n",
       "..                                                 ...  \n",
       "571  Trump said solving the opioid crisis was a top...  \n",
       "572  Notre Dame faculty who attended White House ev...  \n",
       "573  What the White House and Trump allies said abo...  \n",
       "574  Invincibility punctured by infection: How the ...  \n",
       "575  Sen. Thom Tillis of North Carolina becomes sec...  \n",
       "\n",
       "[576 rows x 3 columns]"
      ]
     },
     "execution_count": 86,
     "metadata": {},
     "output_type": "execute_result"
    }
   ],
   "source": [
    "# Import The Washington Post dataset\n",
    "washpost_df = pd.read_csv('WashPost_news.csv')\n",
    "washpost_df = washpost_df[['id', 'date', 'tweet']]\n",
    "washpost_df"
   ]
  },
  {
   "cell_type": "markdown",
   "metadata": {},
   "source": [
    "#### III.i.b. Removing URLs from Tweet Content <a class=\"anchor\" id=\"thirdsubpoint2\"></a>"
   ]
  },
  {
   "cell_type": "markdown",
   "metadata": {},
   "source": [
    "Most tweets by mainstream media outlets also contain URLs linking to the full article on their website. We proceeded to remove the URLs in order to trim the bloat from our dataset as well as focus the analysis purely on the Tweet content."
   ]
  },
  {
   "cell_type": "code",
   "execution_count": 22,
   "metadata": {},
   "outputs": [],
   "source": [
    "#remove url links \n",
    "msnbc_df['tweet'] = msnbc_df['tweet'].replace(r\"http\\S+\", \"\", regex=True).astype(str)\n",
    "cnn_df['tweet'] = cnn_df['tweet'].replace(r\"http\\S+\", \"\", regex=True).astype(str)\n",
    "fox_df['tweet'] = fox_df['tweet'].replace(r\"http\\S+\", \"\", regex=True).astype(str)\n",
    "washpost_df['tweet'] = washpost_df['tweet'].replace(r\"http\\S+\", \"\", regex=True).astype(str)"
   ]
  },
  {
   "cell_type": "code",
   "execution_count": 23,
   "metadata": {},
   "outputs": [
    {
     "name": "stdout",
     "output_type": "stream",
     "text": [
      "MSNBC: Oregon voters on Tuesday are considering a ballot measure that would decriminalize possession of small amounts of hard drugs such as heroin and cocaine.  \n",
      "CNN: There's a lot to keep track of tonight. See which races CNN's anchors and analysts are watching and pick your own to follow with our My Election feature   #CNNElection  \n",
      "FOX News: Newsom says California could move to all mail-in voting   \n",
      "The Washington Post: Biden takes nostalgic journey amid a search for votes  \n"
     ]
    }
   ],
   "source": [
    "print(\"MSNBC:\", msnbc_df['tweet'][0])\n",
    "print(\"CNN:\", cnn_df['tweet'][0])\n",
    "print(\"FOX News:\", fox_df['tweet'][0])\n",
    "print(\"The Washington Post:\", washpost_df['tweet'][0])"
   ]
  },
  {
   "cell_type": "markdown",
   "metadata": {},
   "source": [
    "#### III.i.c. Filtering Tweets according to Parameters <a class=\"anchor\" id=\"thirdsubpoint3\"></a>"
   ]
  },
  {
   "cell_type": "markdown",
   "metadata": {},
   "source": [
    "The last data wrangling step is to filter the sample tweets for those containing the four keywords listed in section II.ii., in order to prep for the sentiment analysis and data visualization steps. "
   ]
  },
  {
   "cell_type": "code",
   "execution_count": 24,
   "metadata": {},
   "outputs": [
    {
     "data": {
      "text/html": [
       "<div>\n",
       "<style scoped>\n",
       "    .dataframe tbody tr th:only-of-type {\n",
       "        vertical-align: middle;\n",
       "    }\n",
       "\n",
       "    .dataframe tbody tr th {\n",
       "        vertical-align: top;\n",
       "    }\n",
       "\n",
       "    .dataframe thead th {\n",
       "        text-align: right;\n",
       "    }\n",
       "</style>\n",
       "<table border=\"1\" class=\"dataframe\">\n",
       "  <thead>\n",
       "    <tr style=\"text-align: right;\">\n",
       "      <th></th>\n",
       "      <th>index</th>\n",
       "      <th>id</th>\n",
       "      <th>date</th>\n",
       "      <th>tweet</th>\n",
       "      <th>target</th>\n",
       "      <th>relevant_tweet</th>\n",
       "    </tr>\n",
       "  </thead>\n",
       "  <tbody>\n",
       "    <tr>\n",
       "      <th>0</th>\n",
       "      <td>8</td>\n",
       "      <td>1323765397309501441</td>\n",
       "      <td>2020-11-04 07:13:59</td>\n",
       "      <td>\"The most immediate problems on this map for D...</td>\n",
       "      <td>Trump</td>\n",
       "      <td>1</td>\n",
       "    </tr>\n",
       "    <tr>\n",
       "      <th>1</th>\n",
       "      <td>11</td>\n",
       "      <td>1323762143808901120</td>\n",
       "      <td>2020-11-04 07:01:04</td>\n",
       "      <td>Fmr. National Security Adviser Susan Rice: \"Th...</td>\n",
       "      <td>Trump</td>\n",
       "      <td>1</td>\n",
       "    </tr>\n",
       "    <tr>\n",
       "      <th>2</th>\n",
       "      <td>15</td>\n",
       "      <td>1323754592786620417</td>\n",
       "      <td>2020-11-04 06:31:03</td>\n",
       "      <td>“It’s very telling that Donald Trump is focuse...</td>\n",
       "      <td>Trump</td>\n",
       "      <td>1</td>\n",
       "    </tr>\n",
       "    <tr>\n",
       "      <th>3</th>\n",
       "      <td>17</td>\n",
       "      <td>1323747566434111494</td>\n",
       "      <td>2020-11-04 06:03:08</td>\n",
       "      <td>.@MaddowBlog: Pres. Trump reportedly expects s...</td>\n",
       "      <td>Trump</td>\n",
       "      <td>1</td>\n",
       "    </tr>\n",
       "    <tr>\n",
       "      <th>4</th>\n",
       "      <td>18</td>\n",
       "      <td>1323742767974141953</td>\n",
       "      <td>2020-11-04 05:44:04</td>\n",
       "      <td>Symone Sanders, senior adviser to Joe Biden, s...</td>\n",
       "      <td>Trump</td>\n",
       "      <td>1</td>\n",
       "    </tr>\n",
       "    <tr>\n",
       "      <th>...</th>\n",
       "      <td>...</td>\n",
       "      <td>...</td>\n",
       "      <td>...</td>\n",
       "      <td>...</td>\n",
       "      <td>...</td>\n",
       "      <td>...</td>\n",
       "    </tr>\n",
       "    <tr>\n",
       "      <th>2023</th>\n",
       "      <td>3319</td>\n",
       "      <td>1312506475986575360</td>\n",
       "      <td>2020-10-04 05:35:03</td>\n",
       "      <td>All 10 Democrats on the Senate Judiciary Cmte....</td>\n",
       "      <td>Democrat</td>\n",
       "      <td>1</td>\n",
       "    </tr>\n",
       "    <tr>\n",
       "      <th>2024</th>\n",
       "      <td>3354</td>\n",
       "      <td>1312388709317259264</td>\n",
       "      <td>2020-10-03 21:47:05</td>\n",
       "      <td>North Carolina Democratic Senate candidate Cal...</td>\n",
       "      <td>Democrat</td>\n",
       "      <td>1</td>\n",
       "    </tr>\n",
       "    <tr>\n",
       "      <th>2025</th>\n",
       "      <td>3361</td>\n",
       "      <td>1312362273009291265</td>\n",
       "      <td>2020-10-03 20:02:03</td>\n",
       "      <td>“If the president can get it, anyone can get i...</td>\n",
       "      <td>Democrat</td>\n",
       "      <td>1</td>\n",
       "    </tr>\n",
       "    <tr>\n",
       "      <th>2026</th>\n",
       "      <td>3369</td>\n",
       "      <td>1312327045096054785</td>\n",
       "      <td>2020-10-03 17:42:04</td>\n",
       "      <td>Democrats know they need to walk a fine line, ...</td>\n",
       "      <td>Democrat</td>\n",
       "      <td>1</td>\n",
       "    </tr>\n",
       "    <tr>\n",
       "      <th>2027</th>\n",
       "      <td>3401</td>\n",
       "      <td>1312211523381592065</td>\n",
       "      <td>2020-10-03 10:03:01</td>\n",
       "      <td>Democrats know they need to walk a fine line, ...</td>\n",
       "      <td>Democrat</td>\n",
       "      <td>1</td>\n",
       "    </tr>\n",
       "  </tbody>\n",
       "</table>\n",
       "<p>2028 rows × 6 columns</p>\n",
       "</div>"
      ],
      "text/plain": [
       "      index                   id                 date  \\\n",
       "0         8  1323765397309501441  2020-11-04 07:13:59   \n",
       "1        11  1323762143808901120  2020-11-04 07:01:04   \n",
       "2        15  1323754592786620417  2020-11-04 06:31:03   \n",
       "3        17  1323747566434111494  2020-11-04 06:03:08   \n",
       "4        18  1323742767974141953  2020-11-04 05:44:04   \n",
       "...     ...                  ...                  ...   \n",
       "2023   3319  1312506475986575360  2020-10-04 05:35:03   \n",
       "2024   3354  1312388709317259264  2020-10-03 21:47:05   \n",
       "2025   3361  1312362273009291265  2020-10-03 20:02:03   \n",
       "2026   3369  1312327045096054785  2020-10-03 17:42:04   \n",
       "2027   3401  1312211523381592065  2020-10-03 10:03:01   \n",
       "\n",
       "                                                  tweet    target  \\\n",
       "0     \"The most immediate problems on this map for D...     Trump   \n",
       "1     Fmr. National Security Adviser Susan Rice: \"Th...     Trump   \n",
       "2     “It’s very telling that Donald Trump is focuse...     Trump   \n",
       "3     .@MaddowBlog: Pres. Trump reportedly expects s...     Trump   \n",
       "4     Symone Sanders, senior adviser to Joe Biden, s...     Trump   \n",
       "...                                                 ...       ...   \n",
       "2023  All 10 Democrats on the Senate Judiciary Cmte....  Democrat   \n",
       "2024  North Carolina Democratic Senate candidate Cal...  Democrat   \n",
       "2025  “If the president can get it, anyone can get i...  Democrat   \n",
       "2026  Democrats know they need to walk a fine line, ...  Democrat   \n",
       "2027  Democrats know they need to walk a fine line, ...  Democrat   \n",
       "\n",
       "      relevant_tweet  \n",
       "0                  1  \n",
       "1                  1  \n",
       "2                  1  \n",
       "3                  1  \n",
       "4                  1  \n",
       "...              ...  \n",
       "2023               1  \n",
       "2024               1  \n",
       "2025               1  \n",
       "2026               1  \n",
       "2027               1  \n",
       "\n",
       "[2028 rows x 6 columns]"
      ]
     },
     "execution_count": 24,
     "metadata": {},
     "output_type": "execute_result"
    }
   ],
   "source": [
    "#grouping tweets according to the keywords (trump, biden, republican, democrat)\n",
    "keyword = ['Trump', 'Biden', 'Republican', 'Democrat']\n",
    "keyword_index = 0\n",
    "data = []\n",
    "\n",
    "for word in keyword:\n",
    "    msnbc_df['target'] = keyword[keyword_index] #assigning a tag to tweets belonging to respective group\n",
    "    msnbc_df['relevant_tweet'] = np.where(msnbc_df['tweet'].str.contains(keyword[keyword_index], case=False, na=False), 1, 0)\n",
    "    temp_df = msnbc_df[msnbc_df['relevant_tweet']==1]\n",
    "    data.append(temp_df)\n",
    "    keyword_index += 1\n",
    "\n",
    "msnbc_relevant_df = pd.concat(data).reset_index()\n",
    "msnbc_relevant_df"
   ]
  },
  {
   "cell_type": "code",
   "execution_count": 25,
   "metadata": {},
   "outputs": [
    {
     "data": {
      "text/html": [
       "<div>\n",
       "<style scoped>\n",
       "    .dataframe tbody tr th:only-of-type {\n",
       "        vertical-align: middle;\n",
       "    }\n",
       "\n",
       "    .dataframe tbody tr th {\n",
       "        vertical-align: top;\n",
       "    }\n",
       "\n",
       "    .dataframe thead th {\n",
       "        text-align: right;\n",
       "    }\n",
       "</style>\n",
       "<table border=\"1\" class=\"dataframe\">\n",
       "  <thead>\n",
       "    <tr style=\"text-align: right;\">\n",
       "      <th></th>\n",
       "      <th>index</th>\n",
       "      <th>id</th>\n",
       "      <th>date</th>\n",
       "      <th>tweet</th>\n",
       "      <th>target</th>\n",
       "      <th>relevant_tweet</th>\n",
       "    </tr>\n",
       "  </thead>\n",
       "  <tbody>\n",
       "    <tr>\n",
       "      <th>0</th>\n",
       "      <td>2</td>\n",
       "      <td>1323766172806975489</td>\n",
       "      <td>2020-11-04 07:17:04</td>\n",
       "      <td>President Trump will watch election results in...</td>\n",
       "      <td>Trump</td>\n",
       "      <td>1</td>\n",
       "    </tr>\n",
       "    <tr>\n",
       "      <th>1</th>\n",
       "      <td>8</td>\n",
       "      <td>1323738238645870597</td>\n",
       "      <td>2020-11-04 05:26:04</td>\n",
       "      <td>Donald Trump and Joe Biden await their fates a...</td>\n",
       "      <td>Trump</td>\n",
       "      <td>1</td>\n",
       "    </tr>\n",
       "    <tr>\n",
       "      <th>2</th>\n",
       "      <td>20</td>\n",
       "      <td>1323691178815082496</td>\n",
       "      <td>2020-11-04 02:19:04</td>\n",
       "      <td>Joe Biden is in Pennsylvania today, and Presid...</td>\n",
       "      <td>Trump</td>\n",
       "      <td>1</td>\n",
       "    </tr>\n",
       "    <tr>\n",
       "      <th>3</th>\n",
       "      <td>22</td>\n",
       "      <td>1323684140508696576</td>\n",
       "      <td>2020-11-04 01:51:06</td>\n",
       "      <td>Donald Trump's final campaign pitch is a false...</td>\n",
       "      <td>Trump</td>\n",
       "      <td>1</td>\n",
       "    </tr>\n",
       "    <tr>\n",
       "      <th>4</th>\n",
       "      <td>37</td>\n",
       "      <td>1323627269714313216</td>\n",
       "      <td>2020-11-03 22:05:07</td>\n",
       "      <td>Dr. Deborah Birx of the White House coronaviru...</td>\n",
       "      <td>Trump</td>\n",
       "      <td>1</td>\n",
       "    </tr>\n",
       "    <tr>\n",
       "      <th>...</th>\n",
       "      <td>...</td>\n",
       "      <td>...</td>\n",
       "      <td>...</td>\n",
       "      <td>...</td>\n",
       "      <td>...</td>\n",
       "      <td>...</td>\n",
       "    </tr>\n",
       "    <tr>\n",
       "      <th>1308</th>\n",
       "      <td>1776</td>\n",
       "      <td>1313275044487983104</td>\n",
       "      <td>2020-10-06 08:29:04</td>\n",
       "      <td>Trump campaign cancels its planned television ...</td>\n",
       "      <td>Democrat</td>\n",
       "      <td>1</td>\n",
       "    </tr>\n",
       "    <tr>\n",
       "      <th>1309</th>\n",
       "      <td>1779</td>\n",
       "      <td>1313263715240869888</td>\n",
       "      <td>2020-10-06 07:44:03</td>\n",
       "      <td>After early victories, Democrats' voting lawsu...</td>\n",
       "      <td>Democrat</td>\n",
       "      <td>1</td>\n",
       "    </tr>\n",
       "    <tr>\n",
       "      <th>1310</th>\n",
       "      <td>1786</td>\n",
       "      <td>1313232019275603970</td>\n",
       "      <td>2020-10-06 05:38:06</td>\n",
       "      <td>Democrats ask State Department to turn over re...</td>\n",
       "      <td>Democrat</td>\n",
       "      <td>1</td>\n",
       "    </tr>\n",
       "    <tr>\n",
       "      <th>1311</th>\n",
       "      <td>1824</td>\n",
       "      <td>1312837913776971777</td>\n",
       "      <td>2020-10-05 03:32:04</td>\n",
       "      <td>Latest Senate and House ratings are good news ...</td>\n",
       "      <td>Democrat</td>\n",
       "      <td>1</td>\n",
       "    </tr>\n",
       "    <tr>\n",
       "      <th>1312</th>\n",
       "      <td>1871</td>\n",
       "      <td>1312197192275247106</td>\n",
       "      <td>2020-10-03 09:06:04</td>\n",
       "      <td>There will be more space between Vice Presiden...</td>\n",
       "      <td>Democrat</td>\n",
       "      <td>1</td>\n",
       "    </tr>\n",
       "  </tbody>\n",
       "</table>\n",
       "<p>1313 rows × 6 columns</p>\n",
       "</div>"
      ],
      "text/plain": [
       "      index                   id                 date  \\\n",
       "0         2  1323766172806975489  2020-11-04 07:17:04   \n",
       "1         8  1323738238645870597  2020-11-04 05:26:04   \n",
       "2        20  1323691178815082496  2020-11-04 02:19:04   \n",
       "3        22  1323684140508696576  2020-11-04 01:51:06   \n",
       "4        37  1323627269714313216  2020-11-03 22:05:07   \n",
       "...     ...                  ...                  ...   \n",
       "1308   1776  1313275044487983104  2020-10-06 08:29:04   \n",
       "1309   1779  1313263715240869888  2020-10-06 07:44:03   \n",
       "1310   1786  1313232019275603970  2020-10-06 05:38:06   \n",
       "1311   1824  1312837913776971777  2020-10-05 03:32:04   \n",
       "1312   1871  1312197192275247106  2020-10-03 09:06:04   \n",
       "\n",
       "                                                  tweet    target  \\\n",
       "0     President Trump will watch election results in...     Trump   \n",
       "1     Donald Trump and Joe Biden await their fates a...     Trump   \n",
       "2     Joe Biden is in Pennsylvania today, and Presid...     Trump   \n",
       "3     Donald Trump's final campaign pitch is a false...     Trump   \n",
       "4     Dr. Deborah Birx of the White House coronaviru...     Trump   \n",
       "...                                                 ...       ...   \n",
       "1308  Trump campaign cancels its planned television ...  Democrat   \n",
       "1309  After early victories, Democrats' voting lawsu...  Democrat   \n",
       "1310  Democrats ask State Department to turn over re...  Democrat   \n",
       "1311  Latest Senate and House ratings are good news ...  Democrat   \n",
       "1312  There will be more space between Vice Presiden...  Democrat   \n",
       "\n",
       "      relevant_tweet  \n",
       "0                  1  \n",
       "1                  1  \n",
       "2                  1  \n",
       "3                  1  \n",
       "4                  1  \n",
       "...              ...  \n",
       "1308               1  \n",
       "1309               1  \n",
       "1310               1  \n",
       "1311               1  \n",
       "1312               1  \n",
       "\n",
       "[1313 rows x 6 columns]"
      ]
     },
     "execution_count": 25,
     "metadata": {},
     "output_type": "execute_result"
    }
   ],
   "source": [
    "keyword = ['Trump', 'Biden', 'Republican', 'Democrat']\n",
    "keyword_index = 0\n",
    "data = []\n",
    "\n",
    "for word in keyword:\n",
    "    cnn_df['target'] = keyword[keyword_index] #assigning a tag to tweets belonging to respective group\n",
    "    cnn_df['relevant_tweet'] = np.where(cnn_df['tweet'].str.contains(keyword[keyword_index], case=False, na=False), 1, 0)\n",
    "    temp_df = cnn_df[cnn_df['relevant_tweet']==1]\n",
    "    data.append(temp_df)\n",
    "    keyword_index += 1\n",
    "\n",
    "cnn_relevant_df = pd.concat(data).reset_index()\n",
    "cnn_relevant_df"
   ]
  },
  {
   "cell_type": "code",
   "execution_count": 26,
   "metadata": {},
   "outputs": [
    {
     "data": {
      "text/html": [
       "<div>\n",
       "<style scoped>\n",
       "    .dataframe tbody tr th:only-of-type {\n",
       "        vertical-align: middle;\n",
       "    }\n",
       "\n",
       "    .dataframe tbody tr th {\n",
       "        vertical-align: top;\n",
       "    }\n",
       "\n",
       "    .dataframe thead th {\n",
       "        text-align: right;\n",
       "    }\n",
       "</style>\n",
       "<table border=\"1\" class=\"dataframe\">\n",
       "  <thead>\n",
       "    <tr style=\"text-align: right;\">\n",
       "      <th></th>\n",
       "      <th>index</th>\n",
       "      <th>id</th>\n",
       "      <th>date</th>\n",
       "      <th>tweet</th>\n",
       "      <th>target</th>\n",
       "      <th>relevant_tweet</th>\n",
       "    </tr>\n",
       "  </thead>\n",
       "  <tbody>\n",
       "    <tr>\n",
       "      <th>0</th>\n",
       "      <td>2</td>\n",
       "      <td>1323772511868379137</td>\n",
       "      <td>2020-11-04 07:42:15</td>\n",
       "      <td>Where are Trump and Biden watching election re...</td>\n",
       "      <td>Trump</td>\n",
       "      <td>1</td>\n",
       "    </tr>\n",
       "    <tr>\n",
       "      <th>1</th>\n",
       "      <td>25</td>\n",
       "      <td>1323741876407721985</td>\n",
       "      <td>2020-11-04 05:40:31</td>\n",
       "      <td>Trump VS. Biden on health care - here's where ...</td>\n",
       "      <td>Trump</td>\n",
       "      <td>1</td>\n",
       "    </tr>\n",
       "    <tr>\n",
       "      <th>2</th>\n",
       "      <td>27</td>\n",
       "      <td>1323741122175389696</td>\n",
       "      <td>2020-11-04 05:37:32</td>\n",
       "      <td>ELECTION NIGHT PEP-TALK: Trump addresses campa...</td>\n",
       "      <td>Trump</td>\n",
       "      <td>1</td>\n",
       "    </tr>\n",
       "    <tr>\n",
       "      <th>3</th>\n",
       "      <td>28</td>\n",
       "      <td>1323737225012662272</td>\n",
       "      <td>2020-11-04 05:22:02</td>\n",
       "      <td>DOWN TO THE WIRE: Trump, Biden still firing of...</td>\n",
       "      <td>Trump</td>\n",
       "      <td>1</td>\n",
       "    </tr>\n",
       "    <tr>\n",
       "      <th>4</th>\n",
       "      <td>35</td>\n",
       "      <td>1323690921716830208</td>\n",
       "      <td>2020-11-04 02:18:03</td>\n",
       "      <td>NYPD union endorses Trump, says president has ...</td>\n",
       "      <td>Trump</td>\n",
       "      <td>1</td>\n",
       "    </tr>\n",
       "    <tr>\n",
       "      <th>...</th>\n",
       "      <td>...</td>\n",
       "      <td>...</td>\n",
       "      <td>...</td>\n",
       "      <td>...</td>\n",
       "      <td>...</td>\n",
       "      <td>...</td>\n",
       "    </tr>\n",
       "    <tr>\n",
       "      <th>330</th>\n",
       "      <td>485</td>\n",
       "      <td>1315832792887054339</td>\n",
       "      <td>2020-10-13 09:52:39</td>\n",
       "      <td>EXCLUSIVE: California hires Democratic operati...</td>\n",
       "      <td>Democrat</td>\n",
       "      <td>1</td>\n",
       "    </tr>\n",
       "    <tr>\n",
       "      <th>331</th>\n",
       "      <td>489</td>\n",
       "      <td>1315764854993678336</td>\n",
       "      <td>2020-10-13 05:22:41</td>\n",
       "      <td>Polls showing big Biden lead 'have massive ove...</td>\n",
       "      <td>Democrat</td>\n",
       "      <td>1</td>\n",
       "    </tr>\n",
       "    <tr>\n",
       "      <th>332</th>\n",
       "      <td>506</td>\n",
       "      <td>1315649159140118529</td>\n",
       "      <td>2020-10-12 21:42:57</td>\n",
       "      <td>ACB hearing kicks off as Chairman Graham makes...</td>\n",
       "      <td>Democrat</td>\n",
       "      <td>1</td>\n",
       "    </tr>\n",
       "    <tr>\n",
       "      <th>333</th>\n",
       "      <td>534</td>\n",
       "      <td>1314981704650698754</td>\n",
       "      <td>2020-10-11 01:30:44</td>\n",
       "      <td>Democratic nominee Joe Biden said voters don’t...</td>\n",
       "      <td>Democrat</td>\n",
       "      <td>1</td>\n",
       "    </tr>\n",
       "    <tr>\n",
       "      <th>334</th>\n",
       "      <td>608</td>\n",
       "      <td>1313989067265191937</td>\n",
       "      <td>2020-10-08 07:46:21</td>\n",
       "      <td>Democrats hold talks with Amy Coney Barrett as...</td>\n",
       "      <td>Democrat</td>\n",
       "      <td>1</td>\n",
       "    </tr>\n",
       "  </tbody>\n",
       "</table>\n",
       "<p>335 rows × 6 columns</p>\n",
       "</div>"
      ],
      "text/plain": [
       "     index                   id                 date  \\\n",
       "0        2  1323772511868379137  2020-11-04 07:42:15   \n",
       "1       25  1323741876407721985  2020-11-04 05:40:31   \n",
       "2       27  1323741122175389696  2020-11-04 05:37:32   \n",
       "3       28  1323737225012662272  2020-11-04 05:22:02   \n",
       "4       35  1323690921716830208  2020-11-04 02:18:03   \n",
       "..     ...                  ...                  ...   \n",
       "330    485  1315832792887054339  2020-10-13 09:52:39   \n",
       "331    489  1315764854993678336  2020-10-13 05:22:41   \n",
       "332    506  1315649159140118529  2020-10-12 21:42:57   \n",
       "333    534  1314981704650698754  2020-10-11 01:30:44   \n",
       "334    608  1313989067265191937  2020-10-08 07:46:21   \n",
       "\n",
       "                                                 tweet    target  \\\n",
       "0    Where are Trump and Biden watching election re...     Trump   \n",
       "1    Trump VS. Biden on health care - here's where ...     Trump   \n",
       "2    ELECTION NIGHT PEP-TALK: Trump addresses campa...     Trump   \n",
       "3    DOWN TO THE WIRE: Trump, Biden still firing of...     Trump   \n",
       "4    NYPD union endorses Trump, says president has ...     Trump   \n",
       "..                                                 ...       ...   \n",
       "330  EXCLUSIVE: California hires Democratic operati...  Democrat   \n",
       "331  Polls showing big Biden lead 'have massive ove...  Democrat   \n",
       "332  ACB hearing kicks off as Chairman Graham makes...  Democrat   \n",
       "333  Democratic nominee Joe Biden said voters don’t...  Democrat   \n",
       "334  Democrats hold talks with Amy Coney Barrett as...  Democrat   \n",
       "\n",
       "     relevant_tweet  \n",
       "0                 1  \n",
       "1                 1  \n",
       "2                 1  \n",
       "3                 1  \n",
       "4                 1  \n",
       "..              ...  \n",
       "330               1  \n",
       "331               1  \n",
       "332               1  \n",
       "333               1  \n",
       "334               1  \n",
       "\n",
       "[335 rows x 6 columns]"
      ]
     },
     "execution_count": 26,
     "metadata": {},
     "output_type": "execute_result"
    }
   ],
   "source": [
    "keyword = ['Trump', 'Biden', 'Republican', 'Democrat']\n",
    "keyword_index = 0\n",
    "data = []\n",
    "\n",
    "for word in keyword:\n",
    "    fox_df['target'] = keyword[keyword_index] #assigning a tag to tweets belonging to respective group\n",
    "    fox_df['relevant_tweet'] = np.where(fox_df['tweet'].str.contains(keyword[keyword_index], case=False, na=False), 1, 0)\n",
    "    temp_df = fox_df[fox_df['relevant_tweet']==1]\n",
    "    data.append(temp_df)\n",
    "    keyword_index += 1\n",
    "\n",
    "fox_relevant_df = pd.concat(data).reset_index()\n",
    "fox_relevant_df"
   ]
  },
  {
   "cell_type": "code",
   "execution_count": 27,
   "metadata": {},
   "outputs": [
    {
     "data": {
      "text/html": [
       "<div>\n",
       "<style scoped>\n",
       "    .dataframe tbody tr th:only-of-type {\n",
       "        vertical-align: middle;\n",
       "    }\n",
       "\n",
       "    .dataframe tbody tr th {\n",
       "        vertical-align: top;\n",
       "    }\n",
       "\n",
       "    .dataframe thead th {\n",
       "        text-align: right;\n",
       "    }\n",
       "</style>\n",
       "<table border=\"1\" class=\"dataframe\">\n",
       "  <thead>\n",
       "    <tr style=\"text-align: right;\">\n",
       "      <th></th>\n",
       "      <th>index</th>\n",
       "      <th>id</th>\n",
       "      <th>date</th>\n",
       "      <th>tweet</th>\n",
       "      <th>target</th>\n",
       "      <th>relevant_tweet</th>\n",
       "    </tr>\n",
       "  </thead>\n",
       "  <tbody>\n",
       "    <tr>\n",
       "      <th>0</th>\n",
       "      <td>1</td>\n",
       "      <td>1323749034482376706</td>\n",
       "      <td>2020-11-04 06:08:58</td>\n",
       "      <td>Trump’s first term has been defined by stabili...</td>\n",
       "      <td>Trump</td>\n",
       "      <td>1</td>\n",
       "    </tr>\n",
       "    <tr>\n",
       "      <th>1</th>\n",
       "      <td>7</td>\n",
       "      <td>1323699811602845696</td>\n",
       "      <td>2020-11-04 02:53:22</td>\n",
       "      <td>Trump’s and Biden’s paths to victory, explained</td>\n",
       "      <td>Trump</td>\n",
       "      <td>1</td>\n",
       "    </tr>\n",
       "    <tr>\n",
       "      <th>2</th>\n",
       "      <td>10</td>\n",
       "      <td>1323686050473140225</td>\n",
       "      <td>2020-11-04 01:58:41</td>\n",
       "      <td>Over the course of 48 hours, most of Trump’s f...</td>\n",
       "      <td>Trump</td>\n",
       "      <td>1</td>\n",
       "    </tr>\n",
       "    <tr>\n",
       "      <th>3</th>\n",
       "      <td>19</td>\n",
       "      <td>1323584271706132481</td>\n",
       "      <td>2020-11-03 19:14:16</td>\n",
       "      <td>Election 2020 live updates: Trump to make Elec...</td>\n",
       "      <td>Trump</td>\n",
       "      <td>1</td>\n",
       "    </tr>\n",
       "    <tr>\n",
       "      <th>4</th>\n",
       "      <td>25</td>\n",
       "      <td>1323425215192408067</td>\n",
       "      <td>2020-11-03 08:42:14</td>\n",
       "      <td>Top Trump adviser pleads for ‘more aggressive ...</td>\n",
       "      <td>Trump</td>\n",
       "      <td>1</td>\n",
       "    </tr>\n",
       "    <tr>\n",
       "      <th>...</th>\n",
       "      <td>...</td>\n",
       "      <td>...</td>\n",
       "      <td>...</td>\n",
       "      <td>...</td>\n",
       "      <td>...</td>\n",
       "      <td>...</td>\n",
       "    </tr>\n",
       "    <tr>\n",
       "      <th>421</th>\n",
       "      <td>434</td>\n",
       "      <td>1314967878177902594</td>\n",
       "      <td>2020-10-11 00:35:47</td>\n",
       "      <td>Prospects for more stimulus checks, coronaviru...</td>\n",
       "      <td>Democrat</td>\n",
       "      <td>1</td>\n",
       "    </tr>\n",
       "    <tr>\n",
       "      <th>422</th>\n",
       "      <td>438</td>\n",
       "      <td>1314704545621180425</td>\n",
       "      <td>2020-10-10 07:09:24</td>\n",
       "      <td>Trump, lagging in polls, pressures Justice Dep...</td>\n",
       "      <td>Democrat</td>\n",
       "      <td>1</td>\n",
       "    </tr>\n",
       "    <tr>\n",
       "      <th>423</th>\n",
       "      <td>489</td>\n",
       "      <td>1313959239489064960</td>\n",
       "      <td>2020-10-08 05:47:49</td>\n",
       "      <td>In call with Democratic senator, Barrett decli...</td>\n",
       "      <td>Democrat</td>\n",
       "      <td>1</td>\n",
       "    </tr>\n",
       "    <tr>\n",
       "      <th>424</th>\n",
       "      <td>547</td>\n",
       "      <td>1313070645236953088</td>\n",
       "      <td>2020-10-05 18:56:52</td>\n",
       "      <td>A sexting scandal in the North Carolina Senate...</td>\n",
       "      <td>Democrat</td>\n",
       "      <td>1</td>\n",
       "    </tr>\n",
       "    <tr>\n",
       "      <th>425</th>\n",
       "      <td>556</td>\n",
       "      <td>1312811847951753216</td>\n",
       "      <td>2020-10-05 01:48:30</td>\n",
       "      <td>Coronavirus relief deal elusive as Pelosi says...</td>\n",
       "      <td>Democrat</td>\n",
       "      <td>1</td>\n",
       "    </tr>\n",
       "  </tbody>\n",
       "</table>\n",
       "<p>426 rows × 6 columns</p>\n",
       "</div>"
      ],
      "text/plain": [
       "     index                   id                 date  \\\n",
       "0        1  1323749034482376706  2020-11-04 06:08:58   \n",
       "1        7  1323699811602845696  2020-11-04 02:53:22   \n",
       "2       10  1323686050473140225  2020-11-04 01:58:41   \n",
       "3       19  1323584271706132481  2020-11-03 19:14:16   \n",
       "4       25  1323425215192408067  2020-11-03 08:42:14   \n",
       "..     ...                  ...                  ...   \n",
       "421    434  1314967878177902594  2020-10-11 00:35:47   \n",
       "422    438  1314704545621180425  2020-10-10 07:09:24   \n",
       "423    489  1313959239489064960  2020-10-08 05:47:49   \n",
       "424    547  1313070645236953088  2020-10-05 18:56:52   \n",
       "425    556  1312811847951753216  2020-10-05 01:48:30   \n",
       "\n",
       "                                                 tweet    target  \\\n",
       "0    Trump’s first term has been defined by stabili...     Trump   \n",
       "1    Trump’s and Biden’s paths to victory, explained       Trump   \n",
       "2    Over the course of 48 hours, most of Trump’s f...     Trump   \n",
       "3    Election 2020 live updates: Trump to make Elec...     Trump   \n",
       "4    Top Trump adviser pleads for ‘more aggressive ...     Trump   \n",
       "..                                                 ...       ...   \n",
       "421  Prospects for more stimulus checks, coronaviru...  Democrat   \n",
       "422  Trump, lagging in polls, pressures Justice Dep...  Democrat   \n",
       "423  In call with Democratic senator, Barrett decli...  Democrat   \n",
       "424  A sexting scandal in the North Carolina Senate...  Democrat   \n",
       "425  Coronavirus relief deal elusive as Pelosi says...  Democrat   \n",
       "\n",
       "     relevant_tweet  \n",
       "0                 1  \n",
       "1                 1  \n",
       "2                 1  \n",
       "3                 1  \n",
       "4                 1  \n",
       "..              ...  \n",
       "421               1  \n",
       "422               1  \n",
       "423               1  \n",
       "424               1  \n",
       "425               1  \n",
       "\n",
       "[426 rows x 6 columns]"
      ]
     },
     "execution_count": 27,
     "metadata": {},
     "output_type": "execute_result"
    }
   ],
   "source": [
    "keyword = ['Trump', 'Biden', 'Republican', 'Democrat']\n",
    "keyword_index = 0\n",
    "data = []\n",
    "\n",
    "for word in keyword:\n",
    "    washpost_df['target'] = keyword[keyword_index] #assigning a tag to tweets belonging to respective group\n",
    "    washpost_df['relevant_tweet'] = np.where(washpost_df['tweet'].str.contains(keyword[keyword_index], case=False, na=False), 1, 0)\n",
    "    temp_df = washpost_df[washpost_df['relevant_tweet']==1]\n",
    "    data.append(temp_df)\n",
    "    keyword_index += 1\n",
    "\n",
    "washpost_relevant_df = pd.concat(data).reset_index()\n",
    "washpost_relevant_df"
   ]
  },
  {
   "cell_type": "markdown",
   "metadata": {},
   "source": [
    "### III.ii. Sentiment Analysis <a class=\"anchor\" id=\"thirdpoint2\"></a>"
   ]
  },
  {
   "cell_type": "markdown",
   "metadata": {},
   "source": [
    "As mentioned, we elected to use the VADER sentiment analysis tool in our work, and therefore need to install and import it. "
   ]
  },
  {
   "cell_type": "code",
   "execution_count": 11,
   "metadata": {},
   "outputs": [],
   "source": [
    "# pip install vaderSentiment"
   ]
  },
  {
   "cell_type": "code",
   "execution_count": 32,
   "metadata": {},
   "outputs": [],
   "source": [
    "from vaderSentiment.vaderSentiment import SentimentIntensityAnalyzer"
   ]
  },
  {
   "cell_type": "markdown",
   "metadata": {},
   "source": [
    "With VADER installed, we can start the analysis process, by using the `SentimentIntensityAnalyser()` object."
   ]
  },
  {
   "cell_type": "code",
   "execution_count": 58,
   "metadata": {},
   "outputs": [],
   "source": [
    "analyser = SentimentIntensityAnalyzer()\n",
    "\n",
    "#MSNBC\n",
    "sentiment1 = msnbc_relevant_df['tweet'].apply(lambda x: analyser.polarity_scores(x))\n",
    "sent1_df = pd.DataFrame(sentiment1.tolist()) #converting a list of dictionaries into a dataframe\n",
    "\n",
    "#CNN\n",
    "sentiment2 = cnn_relevant_df['tweet'].apply(lambda x: analyser.polarity_scores(x))\n",
    "sent2_df = pd.DataFrame(sentiment2.tolist()) \n",
    "\n",
    "#FOX News\n",
    "sentiment3 = fox_relevant_df['tweet'].apply(lambda x: analyser.polarity_scores(x))\n",
    "sent3_df = pd.DataFrame(sentiment3.tolist()) \n",
    "\n",
    "#The Washington Post\n",
    "sentiment4 = washpost_relevant_df['tweet'].apply(lambda x: analyser.polarity_scores(x))\n",
    "sent4_df = pd.DataFrame(sentiment4.tolist()) "
   ]
  },
  {
   "cell_type": "markdown",
   "metadata": {},
   "source": [
    "With the analysis done, we proceed to organize the analysed data into Dataframes."
   ]
  },
  {
   "cell_type": "code",
   "execution_count": 59,
   "metadata": {},
   "outputs": [],
   "source": [
    "msnbc_sent_df = pd.concat([msnbc_relevant_df, sent1_df], axis=1)\n",
    "msnbc_sent_df = msnbc_sent_df.drop(columns=['index', 'date', 'relevant_tweet'])\n",
    "msnbc_sent_df.loc[msnbc_sent_df['compound'] > 0, 'sentiment'] = 'Positive'\n",
    "msnbc_sent_df.loc[msnbc_sent_df['compound'] == 0, 'sentiment'] = 'Neutral'\n",
    "msnbc_sent_df.loc[msnbc_sent_df['compound'] < 0, 'sentiment'] = 'Negative'"
   ]
  },
  {
   "cell_type": "code",
   "execution_count": 60,
   "metadata": {},
   "outputs": [],
   "source": [
    "cnn_sent_df = pd.concat([cnn_relevant_df, sent2_df], axis=1)\n",
    "cnn_sent_df = cnn_sent_df.drop(columns=['index', 'date', 'relevant_tweet'])\n",
    "cnn_sent_df.loc[cnn_sent_df['compound'] > 0, 'sentiment'] = 'Positive'\n",
    "cnn_sent_df.loc[cnn_sent_df['compound'] == 0, 'sentiment'] = 'Neutral'\n",
    "cnn_sent_df.loc[cnn_sent_df['compound'] < 0, 'sentiment'] = 'Negative'"
   ]
  },
  {
   "cell_type": "code",
   "execution_count": 61,
   "metadata": {},
   "outputs": [],
   "source": [
    "fox_sent_df = pd.concat([fox_relevant_df, sent3_df], axis=1)\n",
    "fox_sent_df = fox_sent_df.drop(columns=['index', 'date', 'relevant_tweet'])\n",
    "fox_sent_df.loc[fox_sent_df['compound'] > 0, 'sentiment'] = 'Positive'\n",
    "fox_sent_df.loc[fox_sent_df['compound'] == 0, 'sentiment'] = 'Neutral'\n",
    "fox_sent_df.loc[fox_sent_df['compound'] < 0, 'sentiment'] = 'Negative'"
   ]
  },
  {
   "cell_type": "code",
   "execution_count": 62,
   "metadata": {},
   "outputs": [],
   "source": [
    "washpost_sent_df = pd.concat([washpost_relevant_df, sent4_df], axis=1)\n",
    "washpost_sent_df = washpost_sent_df.drop(columns=['index', 'date', 'relevant_tweet'])\n",
    "washpost_sent_df.loc[washpost_sent_df['compound'] > 0, 'sentiment'] = 'Positive'\n",
    "washpost_sent_df.loc[washpost_sent_df['compound'] == 0, 'sentiment'] = 'Neutral'\n",
    "washpost_sent_df.loc[washpost_sent_df['compound'] < 0, 'sentiment'] = 'Negative'"
   ]
  },
  {
   "cell_type": "markdown",
   "metadata": {},
   "source": [
    "Finally, we split the tweets according to keyword before moving on to visualize the data."
   ]
  },
  {
   "cell_type": "code",
   "execution_count": 63,
   "metadata": {},
   "outputs": [],
   "source": [
    "msnbc_trump_df = msnbc_sent_df[msnbc_sent_df['target'] == 'Trump'] \n",
    "msnbc_biden_df = msnbc_sent_df[msnbc_sent_df['target'] == 'Biden']\n",
    "msnbc_rep_df = msnbc_sent_df[msnbc_sent_df['target'] == 'Republican']\n",
    "msnbc_dem_df = msnbc_sent_df[msnbc_sent_df['target'] == 'Democrat']"
   ]
  },
  {
   "cell_type": "code",
   "execution_count": 64,
   "metadata": {},
   "outputs": [],
   "source": [
    "cnn_trump_df = cnn_sent_df[cnn_sent_df['target'] == 'Trump'] \n",
    "cnn_biden_df = cnn_sent_df[cnn_sent_df['target'] == 'Biden']\n",
    "cnn_rep_df = cnn_sent_df[cnn_sent_df['target'] == 'Republican']\n",
    "cnn_dem_df = cnn_sent_df[cnn_sent_df['target'] == 'Democrat']"
   ]
  },
  {
   "cell_type": "code",
   "execution_count": 65,
   "metadata": {},
   "outputs": [],
   "source": [
    "fox_trump_df = fox_sent_df[fox_sent_df['target'] == 'Trump'] \n",
    "fox_biden_df = fox_sent_df[fox_sent_df['target'] == 'Biden']\n",
    "fox_rep_df = fox_sent_df[fox_sent_df['target'] == 'Republican']\n",
    "fox_dem_df = fox_sent_df[fox_sent_df['target'] == 'Democrat']"
   ]
  },
  {
   "cell_type": "code",
   "execution_count": 66,
   "metadata": {},
   "outputs": [],
   "source": [
    "washpost_trump_df = washpost_sent_df[washpost_sent_df['target'] == 'Trump'] \n",
    "washpost_biden_df = washpost_sent_df[washpost_sent_df['target'] == 'Biden']\n",
    "washpost_rep_df = washpost_sent_df[washpost_sent_df['target'] == 'Republican']\n",
    "washpost_dem_df = washpost_sent_df[washpost_sent_df['target'] == 'Democrat']"
   ]
  },
  {
   "cell_type": "markdown",
   "metadata": {},
   "source": [
    "### III.iii. Data Visualization <a class=\"anchor\" id=\"thirdpoint3\"></a>"
   ]
  },
  {
   "cell_type": "markdown",
   "metadata": {},
   "source": [
    "#### III.iii.a. Tweets by Sentiment <a class=\"anchor\" id=\"thirdsubpoint4\"></a>"
   ]
  },
  {
   "cell_type": "markdown",
   "metadata": {},
   "source": [
    "We will visualize a set of data for each media outlet to show the number of tweets made with each of the four keywords, splitting the tweets by positive, negative or neutral sentiment. "
   ]
  },
  {
   "cell_type": "markdown",
   "metadata": {},
   "source": [
    "__MSNBC__"
   ]
  },
  {
   "cell_type": "code",
   "execution_count": 77,
   "metadata": {},
   "outputs": [
    {
     "data": {
      "image/png": "[encoded data removed]",
      "text/plain": [
       "<Figure size 720x2880 with 4 Axes>"
      ]
     },
     "metadata": {
      "needs_background": "light"
     },
     "output_type": "display_data"
    }
   ],
   "source": [
    "import seaborn as sns \n",
    "import matplotlib.pyplot as plt\n",
    "\n",
    "msnbc_final_data = [msnbc_trump_df, msnbc_biden_df, msnbc_rep_df, msnbc_dem_df]\n",
    "colors = ['red','blue','tomato','skyblue']\n",
    "\n",
    "i = 0 #index\n",
    "\n",
    "fig = plt.figure(figsize=(10,40))\n",
    "ax1 = fig.add_subplot(4,1,1)\n",
    "ax2 = fig.add_subplot(4,1,2)\n",
    "ax3 = fig.add_subplot(4,1,3)\n",
    "ax4 = fig.add_subplot(4,1,4)\n",
    "ax_list = [ax1, ax2, ax3, ax4]\n",
    "\n",
    "for df in msnbc_final_data:\n",
    "    sns.countplot(x='sentiment', data= msnbc_final_data[i], edgecolor ='black', color=colors[i], ax=ax_list[i])\n",
    "    ax_list[i].set_ylabel('Number of Tweets', fontweight ='bold')\n",
    "    ax_list[i].set_xlabel('Sentiment', fontweight ='bold')\n",
    "    ax_list[i].set_title('MSNBC ' + keyword[i] + ' Tweets by Sentiment', fontweight ='bold')\n",
    "    i += 1\n",
    "    \n",
    "plt.show()"
   ]
  },
  {
   "cell_type": "markdown",
   "metadata": {},
   "source": [
    "__CNN__"
   ]
  },
  {
   "cell_type": "code",
   "execution_count": 76,
   "metadata": {},
   "outputs": [
    {
     "data": {
      "image/png": "[encoded data removed]",
      "text/plain": [
       "<Figure size 720x2880 with 4 Axes>"
      ]
     },
     "metadata": {
      "needs_background": "light"
     },
     "output_type": "display_data"
    }
   ],
   "source": [
    "import seaborn as sns \n",
    "import matplotlib.pyplot as plt\n",
    "\n",
    "cnn_final_data = [cnn_trump_df, cnn_biden_df, cnn_rep_df, cnn_dem_df]\n",
    "colors = ['red','blue','tomato','skyblue']\n",
    "\n",
    "i = 0 #index\n",
    "\n",
    "fig = plt.figure(figsize=(10,40))\n",
    "ax1 = fig.add_subplot(4,1,1)\n",
    "ax2 = fig.add_subplot(4,1,2)\n",
    "ax3 = fig.add_subplot(4,1,3)\n",
    "ax4 = fig.add_subplot(4,1,4)\n",
    "ax_list = [ax1, ax2, ax3, ax4]\n",
    "\n",
    "for df in cnn_final_data:\n",
    "    sns.countplot(x='sentiment', data= cnn_final_data[i], edgecolor ='black', color=colors[i], ax=ax_list[i])\n",
    "    ax_list[i].set_ylabel('Number of Tweets', fontweight ='bold')\n",
    "    ax_list[i].set_xlabel('Sentiment', fontweight ='bold')\n",
    "    ax_list[i].set_title('CNN ' + keyword[i] + ' Tweets by Sentiment', fontweight ='bold')\n",
    "    i += 1\n",
    "    \n",
    "plt.show()"
   ]
  },
  {
   "cell_type": "markdown",
   "metadata": {},
   "source": [
    "__Fox News__"
   ]
  },
  {
   "cell_type": "code",
   "execution_count": 75,
   "metadata": {
    "scrolled": false
   },
   "outputs": [
    {
     "data": {
      "image/png": "[encoded data removed]",
      "text/plain": [
       "<Figure size 720x2880 with 4 Axes>"
      ]
     },
     "metadata": {
      "needs_background": "light"
     },
     "output_type": "display_data"
    }
   ],
   "source": [
    "import seaborn as sns \n",
    "import matplotlib.pyplot as plt\n",
    "\n",
    "fox_final_data = [fox_trump_df, fox_biden_df, fox_rep_df, fox_dem_df]\n",
    "colors = ['red','blue','tomato','skyblue']\n",
    "\n",
    "i = 0 #index\n",
    "\n",
    "fig = plt.figure(figsize=(10,40))\n",
    "ax1 = fig.add_subplot(4,1,1)\n",
    "ax2 = fig.add_subplot(4,1,2)\n",
    "ax3 = fig.add_subplot(4,1,3)\n",
    "ax4 = fig.add_subplot(4,1,4)\n",
    "ax_list = [ax1, ax2, ax3, ax4]\n",
    "\n",
    "for df in fox_final_data:\n",
    "    sns.countplot(x='sentiment', data= fox_final_data[i], edgecolor ='black', color=colors[i], ax=ax_list[i])\n",
    "    ax_list[i].set_ylabel('Number of Tweets', fontweight ='bold')\n",
    "    ax_list[i].set_xlabel('Sentiment', fontweight ='bold')\n",
    "    ax_list[i].set_title('Fox News ' + keyword[i] + ' Tweets by Sentiment', fontweight ='bold')\n",
    "    i += 1\n",
    "    \n",
    "plt.show()"
   ]
  },
  {
   "cell_type": "code",
   "execution_count": 74,
   "metadata": {
    "scrolled": false
   },
   "outputs": [
    {
     "data": {
      "image/png": "[encoded data removed]",
      "text/plain": [
       "<Figure size 720x2880 with 4 Axes>"
      ]
     },
     "metadata": {
      "needs_background": "light"
     },
     "output_type": "display_data"
    }
   ],
   "source": [
    "import seaborn as sns \n",
    "import matplotlib.pyplot as plt\n",
    "\n",
    "washpost_final_data = [washpost_trump_df, washpost_biden_df, washpost_rep_df, washpost_dem_df]\n",
    "colors = ['red','blue','tomato','skyblue']\n",
    "\n",
    "i = 0 #index\n",
    "\n",
    "fig = plt.figure(figsize=(10,40))\n",
    "ax1 = fig.add_subplot(4,1,1)\n",
    "ax2 = fig.add_subplot(4,1,2)\n",
    "ax3 = fig.add_subplot(4,1,3)\n",
    "ax4 = fig.add_subplot(4,1,4)\n",
    "ax_list = [ax1, ax2, ax3, ax4]\n",
    "\n",
    "for df in washpost_final_data:\n",
    "    sns.countplot(x='sentiment', data= washpost_final_data[i], edgecolor ='black', color=colors[i], ax=ax_list[i])\n",
    "    ax_list[i].set_ylabel('Number of Tweets', fontweight ='bold')\n",
    "    ax_list[i].set_xlabel('Sentiment', fontweight ='bold')\n",
    "    ax_list[i].set_title('The Washington Post ' + keyword[i] + ' Tweets by Sentiment', fontweight ='bold')\n",
    "    i += 1\n",
    "    \n",
    "plt.show()"
   ]
  },
  {
   "cell_type": "markdown",
   "metadata": {},
   "source": [
    "#### III.iii.b. Proportion of Tweets by Sentiment <a class=\"anchor\" id=\"thirdsubpoint5\"></a>"
   ]
  },
  {
   "cell_type": "markdown",
   "metadata": {},
   "source": [
    "Next we will visualize the proportion of tweets by sentiment, comparing the sentiment analysis of Mr. Trump against Mr. Biden, as well as between that of the Republican and Democrat parties."
   ]
  },
  {
   "cell_type": "markdown",
   "metadata": {},
   "source": [
    "__MSNBC__"
   ]
  },
  {
   "cell_type": "code",
   "execution_count": 56,
   "metadata": {},
   "outputs": [],
   "source": [
    "i = 0\n",
    "prop_list = [] #trump, biden, rep, dem\n",
    "\n",
    "for df in msnbc_final_data:\n",
    "    prop = msnbc_final_data[i].groupby('sentiment').size()/len(msnbc_final_data[i])\n",
    "    prop_list.append(prop)\n",
    "    \n",
    "    i += 1"
   ]
  },
  {
   "cell_type": "code",
   "execution_count": 88,
   "metadata": {},
   "outputs": [
    {
     "data": {
      "image/png": "[encoded data removed]",
      "text/plain": [
       "<Figure size 576x576 with 1 Axes>"
      ]
     },
     "metadata": {
      "needs_background": "light"
     },
     "output_type": "display_data"
    }
   ],
   "source": [
    "bar_width = 0.25\n",
    "plt.subplots(figsize=(8,8))\n",
    "\n",
    "br1 = np.arange(3) \n",
    "br2 = [x + bar_width for x in br1] \n",
    "\n",
    "t = plt.bar(br1, prop_list[0], color ='red', width = bar_width, \n",
    "            edgecolor ='black', label ='Trump') \n",
    "b = plt.bar(br2, prop_list[1], color ='blue', width = bar_width, \n",
    "            edgecolor ='black', label ='Biden') \n",
    "\n",
    "plt.xlabel('Sentiment',fontweight ='bold') \n",
    "plt.ylabel('Percentage of Tweets',fontweight ='bold') \n",
    "plt.xticks([r + bar_width/2 for r in range(3)],['Negative','Neutral','Positive'])\n",
    "plt.legend([t,b],['Percentage of Trump Tweets','Percentage of Biden Tweets'])\n",
    "plt.ylim(0.0, 0.6)\n",
    "plt.title('MSNBC Proportions of Tweets By Sentiment',fontweight ='bold')\n",
    "\n",
    "plt.show()"
   ]
  },
  {
   "cell_type": "code",
   "execution_count": 92,
   "metadata": {},
   "outputs": [
    {
     "data": {
      "image/png": "[encoded data removed]",
      "text/plain": [
       "<Figure size 576x576 with 1 Axes>"
      ]
     },
     "metadata": {
      "needs_background": "light"
     },
     "output_type": "display_data"
    }
   ],
   "source": [
    "bar_width = 0.25\n",
    "plt.subplots(figsize=(8,8))\n",
    "\n",
    "br1 = np.arange(3) \n",
    "br2 = [x + bar_width for x in br1] \n",
    "\n",
    "r = plt.bar(br1, prop_list[2], color ='tomato', width = bar_width, \n",
    "            edgecolor ='black', label ='Republican') \n",
    "d = plt.bar(br2, prop_list[-1], color ='skyblue', width = bar_width, \n",
    "            edgecolor ='black', label ='Democrat') \n",
    "\n",
    "plt.xlabel('Sentiment',fontweight ='bold') \n",
    "plt.ylabel('Percentage of Tweets',fontweight ='bold') \n",
    "plt.xticks([r + bar_width/2 for r in range(3)],['Negative','Neutral','Positive'])\n",
    "plt.legend([r,d],['Percentage of Republican Tweets','Percentage of Democrat Tweets'])\n",
    "plt.ylim(0.0, 0.6)\n",
    "plt.title('MSNBC Proportions of Tweets By Sentiment',fontweight ='bold')\n",
    "\n",
    "plt.show()"
   ]
  },
  {
   "cell_type": "markdown",
   "metadata": {},
   "source": [
    "__CNN__"
   ]
  },
  {
   "cell_type": "code",
   "execution_count": 89,
   "metadata": {},
   "outputs": [],
   "source": [
    "i = 0\n",
    "prop_list = [] #trump, biden, rep, dem\n",
    "\n",
    "for df in cnn_final_data:\n",
    "    prop = cnn_final_data[i].groupby('sentiment').size()/len(cnn_final_data[i])\n",
    "    prop_list.append(prop)\n",
    "    \n",
    "    i += 1"
   ]
  },
  {
   "cell_type": "code",
   "execution_count": 90,
   "metadata": {},
   "outputs": [
    {
     "data": {
      "image/png": "[encoded data removed]",
      "text/plain": [
       "<Figure size 576x576 with 1 Axes>"
      ]
     },
     "metadata": {
      "needs_background": "light"
     },
     "output_type": "display_data"
    }
   ],
   "source": [
    "bar_width = 0.25\n",
    "plt.subplots(figsize=(8,8))\n",
    "\n",
    "br1 = np.arange(3) \n",
    "br2 = [x + bar_width for x in br1] \n",
    "\n",
    "t = plt.bar(br1, prop_list[0], color ='red', width = bar_width, \n",
    "            edgecolor ='black', label ='Trump') \n",
    "b = plt.bar(br2, prop_list[1], color ='blue', width = bar_width, \n",
    "            edgecolor ='black', label ='Biden') \n",
    "\n",
    "plt.xlabel('Sentiment',fontweight ='bold') \n",
    "plt.ylabel('Percentage of Tweets',fontweight ='bold') \n",
    "plt.xticks([r + bar_width/2 for r in range(3)],['Negative','Neutral','Positive'])\n",
    "plt.legend([t,b],['Percentage of Trump Tweets','Percentage of Biden Tweets'])\n",
    "plt.ylim(0.0, 0.6)\n",
    "plt.title('CNN Proportions of Tweets By Sentiment',fontweight ='bold')\n",
    "\n",
    "plt.show()"
   ]
  },
  {
   "cell_type": "code",
   "execution_count": 91,
   "metadata": {},
   "outputs": [
    {
     "data": {
      "image/png": "[encoded data removed]",
      "text/plain": [
       "<Figure size 576x576 with 1 Axes>"
      ]
     },
     "metadata": {
      "needs_background": "light"
     },
     "output_type": "display_data"
    }
   ],
   "source": [
    "bar_width = 0.25\n",
    "plt.subplots(figsize=(8,8))\n",
    "\n",
    "br1 = np.arange(3) \n",
    "br2 = [x + bar_width for x in br1] \n",
    "\n",
    "r = plt.bar(br1, prop_list[2], color ='tomato', width = bar_width, \n",
    "            edgecolor ='black', label ='Republican') \n",
    "d = plt.bar(br2, prop_list[-1], color ='skyblue', width = bar_width, \n",
    "            edgecolor ='black', label ='Democrat') \n",
    "\n",
    "plt.xlabel('Sentiment',fontweight ='bold') \n",
    "plt.ylabel('Percentage of Tweets',fontweight ='bold') \n",
    "plt.xticks([r + bar_width/2 for r in range(3)],['Negative','Neutral','Positive'])\n",
    "plt.legend([r,d],['Percentage of Republican Tweets','Percentage of Democrat Tweets'])\n",
    "plt.ylim(0.0, 0.6)\n",
    "plt.title('CNN Proportions of Tweets By Sentiment',fontweight ='bold')\n",
    "\n",
    "plt.show()"
   ]
  },
  {
   "cell_type": "markdown",
   "metadata": {},
   "source": [
    "__Fox News__"
   ]
  },
  {
   "cell_type": "code",
   "execution_count": 93,
   "metadata": {},
   "outputs": [],
   "source": [
    "i = 0\n",
    "prop_list = [] #trump, biden, rep, dem\n",
    "\n",
    "for df in fox_final_data:\n",
    "    prop = fox_final_data[i].groupby('sentiment').size()/len(fox_final_data[i])\n",
    "    prop_list.append(prop)\n",
    "    \n",
    "    i += 1"
   ]
  },
  {
   "cell_type": "code",
   "execution_count": 94,
   "metadata": {},
   "outputs": [
    {
     "data": {
      "image/png": "[encoded data removed]",
      "text/plain": [
       "<Figure size 576x576 with 1 Axes>"
      ]
     },
     "metadata": {
      "needs_background": "light"
     },
     "output_type": "display_data"
    }
   ],
   "source": [
    "bar_width = 0.25\n",
    "plt.subplots(figsize=(8,8))\n",
    "\n",
    "br1 = np.arange(3) \n",
    "br2 = [x + bar_width for x in br1] \n",
    "\n",
    "t = plt.bar(br1, prop_list[0], color ='red', width = bar_width, \n",
    "            edgecolor ='black', label ='Trump') \n",
    "b = plt.bar(br2, prop_list[1], color ='blue', width = bar_width, \n",
    "            edgecolor ='black', label ='Biden') \n",
    "\n",
    "plt.xlabel('Sentiment',fontweight ='bold') \n",
    "plt.ylabel('Percentage of Tweets',fontweight ='bold') \n",
    "plt.xticks([r + bar_width/2 for r in range(3)],['Negative','Neutral','Positive'])\n",
    "plt.legend([t,b],['Percentage of Trump Tweets','Percentage of Biden Tweets'])\n",
    "plt.ylim(0.0, 0.6)\n",
    "plt.title('Fox News Proportions of Tweets By Sentiment',fontweight ='bold')\n",
    "\n",
    "plt.show()"
   ]
  },
  {
   "cell_type": "code",
   "execution_count": 96,
   "metadata": {},
   "outputs": [
    {
     "data": {
      "image/png": "[encoded data removed]",
      "text/plain": [
       "<Figure size 576x576 with 1 Axes>"
      ]
     },
     "metadata": {
      "needs_background": "light"
     },
     "output_type": "display_data"
    }
   ],
   "source": [
    "bar_width = 0.25\n",
    "plt.subplots(figsize=(8,8))\n",
    "\n",
    "br1 = np.arange(3) \n",
    "br2 = [x + bar_width for x in br1] \n",
    "\n",
    "r = plt.bar(br1, prop_list[2], color ='tomato', width = bar_width, \n",
    "            edgecolor ='black', label ='Republican') \n",
    "d = plt.bar(br2, prop_list[-1], color ='skyblue', width = bar_width, \n",
    "            edgecolor ='black', label ='Democrat') \n",
    "\n",
    "plt.xlabel('Sentiment',fontweight ='bold') \n",
    "plt.ylabel('Percentage of Tweets',fontweight ='bold') \n",
    "plt.xticks([r + bar_width/2 for r in range(3)],['Negative','Neutral','Positive'])\n",
    "plt.legend([r,d],['Percentage of Republican Tweets','Percentage of Democrat Tweets'])\n",
    "plt.ylim(0.0, 0.6)\n",
    "plt.title('Fox News Proportions of Tweets By Sentiment',fontweight ='bold')\n",
    "\n",
    "plt.show()"
   ]
  },
  {
   "cell_type": "code",
   "execution_count": 97,
   "metadata": {},
   "outputs": [],
   "source": [
    "i = 0\n",
    "prop_list = [] #trump, biden, rep, dem\n",
    "\n",
    "for df in washpost_final_data:\n",
    "    prop = washpost_final_data[i].groupby('sentiment').size()/len(washpost_final_data[i])\n",
    "    prop_list.append(prop)\n",
    "    \n",
    "    i += 1"
   ]
  },
  {
   "cell_type": "code",
   "execution_count": 99,
   "metadata": {},
   "outputs": [
    {
     "data": {
      "image/png": "[encoded data removed]",
      "text/plain": [
       "<Figure size 576x576 with 1 Axes>"
      ]
     },
     "metadata": {
      "needs_background": "light"
     },
     "output_type": "display_data"
    }
   ],
   "source": [
    "bar_width = 0.25\n",
    "plt.subplots(figsize=(8,8))\n",
    "\n",
    "br1 = np.arange(3) \n",
    "br2 = [x + bar_width for x in br1] \n",
    "\n",
    "t = plt.bar(br1, prop_list[0], color ='red', width = bar_width, \n",
    "            edgecolor ='black', label ='Trump') \n",
    "b = plt.bar(br2, prop_list[1], color ='blue', width = bar_width, \n",
    "            edgecolor ='black', label ='Biden') \n",
    "\n",
    "plt.xlabel('Sentiment',fontweight ='bold') \n",
    "plt.ylabel('Percentage of Tweets',fontweight ='bold') \n",
    "plt.xticks([r + bar_width/2 for r in range(3)],['Negative','Neutral','Positive'])\n",
    "plt.legend([t,b],['Percentage of Trump Tweets','Percentage of Biden Tweets'])\n",
    "plt.ylim(0.0, 0.6)\n",
    "plt.title('The Washington Post Proportions of Tweets By Sentiment',fontweight ='bold')\n",
    "\n",
    "plt.show()"
   ]
  },
  {
   "cell_type": "code",
   "execution_count": 100,
   "metadata": {},
   "outputs": [
    {
     "data": {
      "image/png": "[encoded data removed]",
      "text/plain": [
       "<Figure size 576x576 with 1 Axes>"
      ]
     },
     "metadata": {
      "needs_background": "light"
     },
     "output_type": "display_data"
    }
   ],
   "source": [
    "bar_width = 0.25\n",
    "plt.subplots(figsize=(8,8))\n",
    "\n",
    "br1 = np.arange(3) \n",
    "br2 = [x + bar_width for x in br1] \n",
    "\n",
    "r = plt.bar(br1, prop_list[2], color ='tomato', width = bar_width, \n",
    "            edgecolor ='black', label ='Republican') \n",
    "d = plt.bar(br2, prop_list[-1], color ='skyblue', width = bar_width, \n",
    "            edgecolor ='black', label ='Democrat') \n",
    "\n",
    "plt.xlabel('Sentiment',fontweight ='bold') \n",
    "plt.ylabel('Percentage of Tweets',fontweight ='bold') \n",
    "plt.xticks([r + bar_width/2 for r in range(3)],['Negative','Neutral','Positive'])\n",
    "plt.legend([r,d],['Percentage of Republican Tweets','Percentage of Democrat Tweets'])\n",
    "plt.ylim(0.0, 0.6)\n",
    "plt.title('The Washington Post Proportions of Tweets By Sentiment',fontweight ='bold')\n",
    "\n",
    "plt.show()"
   ]
  },
  {
   "cell_type": "markdown",
   "metadata": {},
   "source": [
    "## IV. Insights and Analysis <a class=\"anchor\" id=\"fourthpoint\"></a>"
   ]
  },
  {
   "cell_type": "markdown",
   "metadata": {},
   "source": [
    "- In general, it would seem that the common perception of the bias of each news outlet holds true - if one were to look at the sentiment proportions of the Republican/Democrat comparisons, Fox News and The Washington Post speak more positively of the Republican Party, and likewise for CNN and MSNBC for the Democrat Party.\n",
    "- Mr Trump seems to receive the most amount of social media coverage across all outlets (both positive and negative), as opposed to his political opponent Mr. Biden, as well as either Party in general.\n",
    "- Another interesting observation is that the liberal-leaning outlets seem to make much more use of social media to get their message out than the conservative ones. This makes sample sizes across time periods somewhat disproportioned.\n",
    "- When it comes to Fox News, a surprising result was that negative tweets about Mr Trump outweighed the positive. In context, it seems that in the lead-up and aftermath of the election, Fox News ran some unexpectedly negatove cpverage of the sitting President (but not the Republican party in general. In a larger sample size, say perhaps a year's or even the tweets over the span of Mr Trump's presidency, this month-long sample size might register as an anomaly. "
   ]
  }
 ],
 "metadata": {
  "kernelspec": {
   "display_name": "Python 3",
   "language": "python",
   "name": "python3"
  },
  "language_info": {
   "codemirror_mode": {
    "name": "ipython",
    "version": 3
   },
   "file_extension": ".py",
   "mimetype": "text/x-python",
   "name": "python",
   "nbconvert_exporter": "python",
   "pygments_lexer": "ipython3",
   "version": "3.7.6"
  },
  "toc": {
   "base_numbering": 1,
   "nav_menu": {},
   "number_sections": true,
   "sideBar": true,
   "skip_h1_title": false,
   "title_cell": "Table of Contents",
   "title_sidebar": "Contents",
   "toc_cell": false,
   "toc_position": {},
   "toc_section_display": true,
   "toc_window_display": false
  }
 },
 "nbformat": 4,
 "nbformat_minor": 4
}
